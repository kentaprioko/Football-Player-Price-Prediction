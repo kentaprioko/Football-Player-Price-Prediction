{
 "cells": [
  {
   "cell_type": "markdown",
   "metadata": {},
   "source": [
    "## **Import Library**"
   ]
  },
  {
   "cell_type": "code",
   "execution_count": 1,
   "metadata": {},
   "outputs": [],
   "source": [
    "import numpy as np \n",
    "import pandas as pd \n",
    "import seaborn as sns \n",
    "import matplotlib.pyplot as plt\n",
    "\n",
    "from sklearn.model_selection import train_test_split\n",
    "\n",
    "from sklearn.compose import ColumnTransformer\n",
    "from imblearn.pipeline import Pipeline\n",
    "\n",
    "from sklearn.metrics import mean_absolute_error, mean_absolute_percentage_error, mean_squared_error\n",
    "from category_encoders import OneHotEncoder, BinaryEncoder\n",
    "\n",
    "from sklearn.tree import plot_tree, DecisionTreeRegressor\n",
    "from sklearn.linear_model import LinearRegression\n",
    "from sklearn.neighbors import KNeighborsRegressor\n",
    "from xgboost import XGBRegressor\n",
    "from sklearn.ensemble import RandomForestRegressor\n",
    "\n",
    "from sklearn.model_selection import cross_validate\n",
    "\n",
    "import pickle\n",
    "import string\n",
    "from unidecode import unidecode\n"
   ]
  },
  {
   "cell_type": "markdown",
   "metadata": {},
   "source": [
    "## **Load Dataset**"
   ]
  },
  {
   "cell_type": "markdown",
   "metadata": {},
   "source": [
    "### **Player Stats Dataset**"
   ]
  },
  {
   "cell_type": "code",
   "execution_count": 2,
   "metadata": {},
   "outputs": [
    {
     "data": {
      "text/html": [
       "<div>\n",
       "<style scoped>\n",
       "    .dataframe tbody tr th:only-of-type {\n",
       "        vertical-align: middle;\n",
       "    }\n",
       "\n",
       "    .dataframe tbody tr th {\n",
       "        vertical-align: top;\n",
       "    }\n",
       "\n",
       "    .dataframe thead th {\n",
       "        text-align: right;\n",
       "    }\n",
       "</style>\n",
       "<table border=\"1\" class=\"dataframe\">\n",
       "  <thead>\n",
       "    <tr style=\"text-align: right;\">\n",
       "      <th></th>\n",
       "      <th>Rk</th>\n",
       "      <th>Player</th>\n",
       "      <th>Nation</th>\n",
       "      <th>Pos</th>\n",
       "      <th>Squad</th>\n",
       "      <th>Comp</th>\n",
       "      <th>Age</th>\n",
       "      <th>Born</th>\n",
       "      <th>MP</th>\n",
       "      <th>Starts</th>\n",
       "      <th>...</th>\n",
       "      <th>Off</th>\n",
       "      <th>Crs</th>\n",
       "      <th>TklW</th>\n",
       "      <th>PKwon</th>\n",
       "      <th>PKcon</th>\n",
       "      <th>OG</th>\n",
       "      <th>Recov</th>\n",
       "      <th>AerWon</th>\n",
       "      <th>AerLost</th>\n",
       "      <th>AerWon%</th>\n",
       "    </tr>\n",
       "  </thead>\n",
       "  <tbody>\n",
       "    <tr>\n",
       "      <th>0</th>\n",
       "      <td>1</td>\n",
       "      <td>Max Aarons</td>\n",
       "      <td>ENG</td>\n",
       "      <td>DF</td>\n",
       "      <td>Norwich City</td>\n",
       "      <td>Premier League</td>\n",
       "      <td>22.0</td>\n",
       "      <td>2000</td>\n",
       "      <td>34</td>\n",
       "      <td>32</td>\n",
       "      <td>...</td>\n",
       "      <td>0.03</td>\n",
       "      <td>1.41</td>\n",
       "      <td>1.16</td>\n",
       "      <td>0.0</td>\n",
       "      <td>0.06</td>\n",
       "      <td>0.03</td>\n",
       "      <td>5.53</td>\n",
       "      <td>0.47</td>\n",
       "      <td>1.59</td>\n",
       "      <td>22.7</td>\n",
       "    </tr>\n",
       "    <tr>\n",
       "      <th>1</th>\n",
       "      <td>2</td>\n",
       "      <td>Yunis Abdelhamid</td>\n",
       "      <td>MAR</td>\n",
       "      <td>DF</td>\n",
       "      <td>Reims</td>\n",
       "      <td>Ligue 1</td>\n",
       "      <td>34.0</td>\n",
       "      <td>1987</td>\n",
       "      <td>34</td>\n",
       "      <td>34</td>\n",
       "      <td>...</td>\n",
       "      <td>0.00</td>\n",
       "      <td>0.06</td>\n",
       "      <td>1.39</td>\n",
       "      <td>0.0</td>\n",
       "      <td>0.03</td>\n",
       "      <td>0.00</td>\n",
       "      <td>6.77</td>\n",
       "      <td>2.02</td>\n",
       "      <td>1.36</td>\n",
       "      <td>59.8</td>\n",
       "    </tr>\n",
       "    <tr>\n",
       "      <th>2</th>\n",
       "      <td>3</td>\n",
       "      <td>Salis Abdul Samed</td>\n",
       "      <td>GHA</td>\n",
       "      <td>MF</td>\n",
       "      <td>Clermont Foot</td>\n",
       "      <td>Ligue 1</td>\n",
       "      <td>22.0</td>\n",
       "      <td>2000</td>\n",
       "      <td>31</td>\n",
       "      <td>29</td>\n",
       "      <td>...</td>\n",
       "      <td>0.00</td>\n",
       "      <td>0.36</td>\n",
       "      <td>1.24</td>\n",
       "      <td>0.0</td>\n",
       "      <td>0.00</td>\n",
       "      <td>0.00</td>\n",
       "      <td>8.76</td>\n",
       "      <td>0.88</td>\n",
       "      <td>0.88</td>\n",
       "      <td>50.0</td>\n",
       "    </tr>\n",
       "    <tr>\n",
       "      <th>3</th>\n",
       "      <td>4</td>\n",
       "      <td>Laurent Abergel</td>\n",
       "      <td>FRA</td>\n",
       "      <td>MF</td>\n",
       "      <td>Lorient</td>\n",
       "      <td>Ligue 1</td>\n",
       "      <td>29.0</td>\n",
       "      <td>1993</td>\n",
       "      <td>34</td>\n",
       "      <td>34</td>\n",
       "      <td>...</td>\n",
       "      <td>0.03</td>\n",
       "      <td>0.79</td>\n",
       "      <td>2.23</td>\n",
       "      <td>0.0</td>\n",
       "      <td>0.00</td>\n",
       "      <td>0.00</td>\n",
       "      <td>8.87</td>\n",
       "      <td>0.43</td>\n",
       "      <td>0.43</td>\n",
       "      <td>50.0</td>\n",
       "    </tr>\n",
       "    <tr>\n",
       "      <th>4</th>\n",
       "      <td>5</td>\n",
       "      <td>Charles Abi</td>\n",
       "      <td>FRA</td>\n",
       "      <td>FW</td>\n",
       "      <td>Saint-Étienne</td>\n",
       "      <td>Ligue 1</td>\n",
       "      <td>22.0</td>\n",
       "      <td>2000</td>\n",
       "      <td>1</td>\n",
       "      <td>1</td>\n",
       "      <td>...</td>\n",
       "      <td>0.00</td>\n",
       "      <td>2.00</td>\n",
       "      <td>0.00</td>\n",
       "      <td>0.0</td>\n",
       "      <td>0.00</td>\n",
       "      <td>0.00</td>\n",
       "      <td>4.00</td>\n",
       "      <td>2.00</td>\n",
       "      <td>0.00</td>\n",
       "      <td>100.0</td>\n",
       "    </tr>\n",
       "  </tbody>\n",
       "</table>\n",
       "<p>5 rows × 143 columns</p>\n",
       "</div>"
      ],
      "text/plain": [
       "   Rk             Player Nation Pos          Squad            Comp   Age  \\\n",
       "0   1         Max Aarons    ENG  DF   Norwich City  Premier League  22.0   \n",
       "1   2   Yunis Abdelhamid    MAR  DF          Reims         Ligue 1  34.0   \n",
       "2   3  Salis Abdul Samed    GHA  MF  Clermont Foot         Ligue 1  22.0   \n",
       "3   4    Laurent Abergel    FRA  MF        Lorient         Ligue 1  29.0   \n",
       "4   5        Charles Abi    FRA  FW  Saint-Étienne         Ligue 1  22.0   \n",
       "\n",
       "   Born  MP  Starts  ...   Off   Crs  TklW  PKwon  PKcon    OG  Recov  AerWon  \\\n",
       "0  2000  34      32  ...  0.03  1.41  1.16    0.0   0.06  0.03   5.53    0.47   \n",
       "1  1987  34      34  ...  0.00  0.06  1.39    0.0   0.03  0.00   6.77    2.02   \n",
       "2  2000  31      29  ...  0.00  0.36  1.24    0.0   0.00  0.00   8.76    0.88   \n",
       "3  1993  34      34  ...  0.03  0.79  2.23    0.0   0.00  0.00   8.87    0.43   \n",
       "4  2000   1       1  ...  0.00  2.00  0.00    0.0   0.00  0.00   4.00    2.00   \n",
       "\n",
       "   AerLost  AerWon%  \n",
       "0     1.59     22.7  \n",
       "1     1.36     59.8  \n",
       "2     0.88     50.0  \n",
       "3     0.43     50.0  \n",
       "4     0.00    100.0  \n",
       "\n",
       "[5 rows x 143 columns]"
      ]
     },
     "execution_count": 2,
     "metadata": {},
     "output_type": "execute_result"
    }
   ],
   "source": [
    "stats = pd.read_csv('2021-2022 Football Player Stats.csv', encoding='unicode_escape')\n",
    "stats.head()"
   ]
  },
  {
   "cell_type": "markdown",
   "metadata": {},
   "source": [
    "### **Player Price Dataset**"
   ]
  },
  {
   "cell_type": "code",
   "execution_count": 3,
   "metadata": {},
   "outputs": [
    {
     "data": {
      "text/html": [
       "<div>\n",
       "<style scoped>\n",
       "    .dataframe tbody tr th:only-of-type {\n",
       "        vertical-align: middle;\n",
       "    }\n",
       "\n",
       "    .dataframe tbody tr th {\n",
       "        vertical-align: top;\n",
       "    }\n",
       "\n",
       "    .dataframe thead th {\n",
       "        text-align: right;\n",
       "    }\n",
       "</style>\n",
       "<table border=\"1\" class=\"dataframe\">\n",
       "  <thead>\n",
       "    <tr style=\"text-align: right;\">\n",
       "      <th></th>\n",
       "      <th>name</th>\n",
       "      <th>position</th>\n",
       "      <th>age</th>\n",
       "      <th>market_value</th>\n",
       "      <th>country_from</th>\n",
       "      <th>league_from</th>\n",
       "      <th>club_from</th>\n",
       "      <th>country_to</th>\n",
       "      <th>league_to</th>\n",
       "      <th>club_to</th>\n",
       "      <th>fee</th>\n",
       "      <th>loan</th>\n",
       "    </tr>\n",
       "  </thead>\n",
       "  <tbody>\n",
       "    <tr>\n",
       "      <th>0</th>\n",
       "      <td>Erling Haaland</td>\n",
       "      <td>Centre-Forward</td>\n",
       "      <td>21</td>\n",
       "      <td>150.0</td>\n",
       "      <td>Germany</td>\n",
       "      <td>Bundesliga</td>\n",
       "      <td>Borussia Dortmund</td>\n",
       "      <td>England</td>\n",
       "      <td>Premier League</td>\n",
       "      <td>Manchester City</td>\n",
       "      <td>60.0</td>\n",
       "      <td>False</td>\n",
       "    </tr>\n",
       "    <tr>\n",
       "      <th>1</th>\n",
       "      <td>Antony</td>\n",
       "      <td>Right Winger</td>\n",
       "      <td>22</td>\n",
       "      <td>35.0</td>\n",
       "      <td>Netherlands</td>\n",
       "      <td>Eredivisie</td>\n",
       "      <td>Ajax Amsterdam</td>\n",
       "      <td>England</td>\n",
       "      <td>Premier League</td>\n",
       "      <td>Manchester United</td>\n",
       "      <td>95.0</td>\n",
       "      <td>False</td>\n",
       "    </tr>\n",
       "    <tr>\n",
       "      <th>2</th>\n",
       "      <td>Wesley Fofana</td>\n",
       "      <td>Centre-Back</td>\n",
       "      <td>21</td>\n",
       "      <td>40.0</td>\n",
       "      <td>England</td>\n",
       "      <td>Premier League</td>\n",
       "      <td>Leicester City</td>\n",
       "      <td>England</td>\n",
       "      <td>Premier League</td>\n",
       "      <td>Chelsea FC</td>\n",
       "      <td>80.4</td>\n",
       "      <td>False</td>\n",
       "    </tr>\n",
       "    <tr>\n",
       "      <th>3</th>\n",
       "      <td>Aurélien Tchouameni</td>\n",
       "      <td>Defensive Midfield</td>\n",
       "      <td>22</td>\n",
       "      <td>60.0</td>\n",
       "      <td>Monaco</td>\n",
       "      <td>Ligue 1</td>\n",
       "      <td>AS Monaco</td>\n",
       "      <td>Spain</td>\n",
       "      <td>LaLiga</td>\n",
       "      <td>Real Madrid</td>\n",
       "      <td>80.0</td>\n",
       "      <td>False</td>\n",
       "    </tr>\n",
       "    <tr>\n",
       "      <th>4</th>\n",
       "      <td>Darwin Núñez</td>\n",
       "      <td>Centre-Forward</td>\n",
       "      <td>23</td>\n",
       "      <td>55.0</td>\n",
       "      <td>Portugal</td>\n",
       "      <td>Liga Portugal</td>\n",
       "      <td>SL Benfica</td>\n",
       "      <td>England</td>\n",
       "      <td>Premier League</td>\n",
       "      <td>Liverpool FC</td>\n",
       "      <td>75.0</td>\n",
       "      <td>False</td>\n",
       "    </tr>\n",
       "  </tbody>\n",
       "</table>\n",
       "</div>"
      ],
      "text/plain": [
       "                  name            position age  market_value country_from  \\\n",
       "0       Erling Haaland      Centre-Forward  21         150.0      Germany   \n",
       "1               Antony        Right Winger  22          35.0  Netherlands   \n",
       "2        Wesley Fofana         Centre-Back  21          40.0      England   \n",
       "3  Aurélien Tchouameni  Defensive Midfield  22          60.0       Monaco   \n",
       "4         Darwin Núñez      Centre-Forward  23          55.0     Portugal   \n",
       "\n",
       "      league_from          club_from country_to       league_to  \\\n",
       "0      Bundesliga  Borussia Dortmund    England  Premier League   \n",
       "1      Eredivisie     Ajax Amsterdam    England  Premier League   \n",
       "2  Premier League     Leicester City    England  Premier League   \n",
       "3         Ligue 1          AS Monaco      Spain          LaLiga   \n",
       "4   Liga Portugal         SL Benfica    England  Premier League   \n",
       "\n",
       "             club_to   fee   loan  \n",
       "0    Manchester City  60.0  False  \n",
       "1  Manchester United  95.0  False  \n",
       "2         Chelsea FC  80.4  False  \n",
       "3        Real Madrid  80.0  False  \n",
       "4       Liverpool FC  75.0  False  "
      ]
     },
     "execution_count": 3,
     "metadata": {},
     "output_type": "execute_result"
    }
   ],
   "source": [
    "price = pd.read_csv('2022_2023_football_summer_transfers_v2.csv')\n",
    "price.head()"
   ]
  },
  {
   "cell_type": "markdown",
   "metadata": {},
   "source": [
    "## **Data Cleaning**"
   ]
  },
  {
   "cell_type": "markdown",
   "metadata": {},
   "source": [
    "### **Player Stats Dataset**"
   ]
  },
  {
   "cell_type": "markdown",
   "metadata": {},
   "source": [
    "#### Check Missing Value"
   ]
  },
  {
   "cell_type": "code",
   "execution_count": 4,
   "metadata": {},
   "outputs": [
    {
     "data": {
      "text/plain": [
       "Rk         0\n",
       "Player     0\n",
       "Nation     1\n",
       "Pos        0\n",
       "Squad      0\n",
       "          ..\n",
       "OG         0\n",
       "Recov      0\n",
       "AerWon     0\n",
       "AerLost    0\n",
       "AerWon%    0\n",
       "Length: 143, dtype: int64"
      ]
     },
     "execution_count": 4,
     "metadata": {},
     "output_type": "execute_result"
    }
   ],
   "source": [
    "stats.isna().sum()\n",
    "#Cannot see all columns with missing value because there are too many columns"
   ]
  },
  {
   "cell_type": "code",
   "execution_count": 5,
   "metadata": {},
   "outputs": [
    {
     "data": {
      "text/html": [
       "<div>\n",
       "<style scoped>\n",
       "    .dataframe tbody tr th:only-of-type {\n",
       "        vertical-align: middle;\n",
       "    }\n",
       "\n",
       "    .dataframe tbody tr th {\n",
       "        vertical-align: top;\n",
       "    }\n",
       "\n",
       "    .dataframe thead th {\n",
       "        text-align: right;\n",
       "    }\n",
       "</style>\n",
       "<table border=\"1\" class=\"dataframe\">\n",
       "  <thead>\n",
       "    <tr style=\"text-align: right;\">\n",
       "      <th></th>\n",
       "      <th>Rk</th>\n",
       "      <th>Player</th>\n",
       "      <th>Nation</th>\n",
       "      <th>Pos</th>\n",
       "      <th>Squad</th>\n",
       "      <th>Comp</th>\n",
       "      <th>Age</th>\n",
       "      <th>Born</th>\n",
       "      <th>MP</th>\n",
       "      <th>Starts</th>\n",
       "      <th>...</th>\n",
       "      <th>Off</th>\n",
       "      <th>Crs</th>\n",
       "      <th>TklW</th>\n",
       "      <th>PKwon</th>\n",
       "      <th>PKcon</th>\n",
       "      <th>OG</th>\n",
       "      <th>Recov</th>\n",
       "      <th>AerWon</th>\n",
       "      <th>AerLost</th>\n",
       "      <th>AerWon%</th>\n",
       "    </tr>\n",
       "  </thead>\n",
       "  <tbody>\n",
       "  </tbody>\n",
       "</table>\n",
       "<p>0 rows × 143 columns</p>\n",
       "</div>"
      ],
      "text/plain": [
       "Empty DataFrame\n",
       "Columns: [Rk, Player, Nation, Pos, Squad, Comp, Age, Born, MP, Starts, Min, 90s, Goals, Shots, SoT, SoT%, G/Sh, G/SoT, ShoDist, ShoFK, ShoPK, PKatt, PasTotCmp, PasTotAtt, PasTotCmp%, PasTotDist, PasTotPrgDist, PasShoCmp, PasShoAtt, PasShoCmp%, PasMedCmp, PasMedAtt, PasMedCmp%, PasLonCmp, PasLonAtt, PasLonCmp%, Assists, PasAss, Pas3rd, PPA, CrsPA, PasProg, PasAtt, PasLive, PasDead, PasFK, TB, PasPress, Sw, PasCrs, CK, CkIn, CkOut, CkStr, PasGround, PasLow, PasHigh, PaswLeft, PaswRight, PaswHead, TI, PaswOther, PasCmp, PasOff, PasOut, PasInt, PasBlocks, SCA, ScaPassLive, ScaPassDead, ScaDrib, ScaSh, ScaFld, ScaDef, GCA, GcaPassLive, GcaPassDead, GcaDrib, GcaSh, GcaFld, GcaDef, Tkl, TklWon, TklDef3rd, TklMid3rd, TklAtt3rd, TklDri, TklDriAtt, TklDri%, TklDriPast, Press, PresSucc, Press%, PresDef3rd, PresMid3rd, PresAtt3rd, Blocks, BlkSh, BlkShSv, BlkPass, ...]\n",
       "Index: []\n",
       "\n",
       "[0 rows x 143 columns]"
      ]
     },
     "execution_count": 5,
     "metadata": {},
     "output_type": "execute_result"
    }
   ],
   "source": [
    "stats[stats.isin(['-']).any(axis=1)]"
   ]
  },
  {
   "cell_type": "code",
   "execution_count": 6,
   "metadata": {},
   "outputs": [
    {
     "name": "stdout",
     "output_type": "stream",
     "text": [
      "Column index number : 2 has 1 missing value\n",
      "Column index number : 6 has 1 missing value\n"
     ]
    }
   ],
   "source": [
    "missingColumn = stats.isna().sum()\n",
    "missingChecker = 0\n",
    "for i in range (len(missingColumn)):\n",
    "    if (missingColumn[i]) != 0 :\n",
    "        print(f'Column index number : {i} has {missingColumn[i]} missing value')\n",
    "        missingChecker = missingChecker + 1\n",
    "    elif i == (len(missingColumn)-1) and  missingChecker == 0 :\n",
    "        print('No missing value found')"
   ]
  },
  {
   "cell_type": "code",
   "execution_count": 7,
   "metadata": {},
   "outputs": [
    {
     "data": {
      "text/plain": [
       "Index(['Nation', 'Age'], dtype='object')"
      ]
     },
     "execution_count": 7,
     "metadata": {},
     "output_type": "execute_result"
    }
   ],
   "source": [
    "stats.iloc[:, [2, 6]].columns"
   ]
  },
  {
   "cell_type": "code",
   "execution_count": 8,
   "metadata": {},
   "outputs": [],
   "source": [
    "stats['Nation'].fillna('Unknown', inplace=True)\n",
    "stats['Age'].fillna(stats['Age'].median(), inplace=True)"
   ]
  },
  {
   "cell_type": "code",
   "execution_count": 9,
   "metadata": {},
   "outputs": [
    {
     "name": "stdout",
     "output_type": "stream",
     "text": [
      "No missing value found\n"
     ]
    }
   ],
   "source": [
    "missingColumn = stats.isna().sum()\n",
    "missingChecker = 0\n",
    "\n",
    "for i in range (len(missingColumn)):\n",
    "    if (missingColumn[i]) != 0 :\n",
    "        print(f'Column index number : {i} has {missingColumn[i]} missing value')\n",
    "        missingChecker = missingChecker + 1\n",
    "    elif i == (len(missingColumn)-1) and  missingChecker == 0 :\n",
    "        print('No missing value found')"
   ]
  },
  {
   "cell_type": "markdown",
   "metadata": {},
   "source": [
    "#### Convert Non Alphabet Player Name to Alphabet "
   ]
  },
  {
   "cell_type": "code",
   "execution_count": 10,
   "metadata": {},
   "outputs": [
    {
     "name": "stderr",
     "output_type": "stream",
     "text": [
      "C:\\Users\\kenta\\AppData\\Local\\Temp\\ipykernel_16528\\767582460.py:2: SettingWithCopyWarning: \n",
      "A value is trying to be set on a copy of a slice from a DataFrame\n",
      "\n",
      "See the caveats in the documentation: https://pandas.pydata.org/pandas-docs/stable/user_guide/indexing.html#returning-a-view-versus-a-copy\n",
      "  stats.Player[i] = unidecode(stats.Player[i])\n"
     ]
    }
   ],
   "source": [
    "for i in range(len(stats.Player)):\n",
    "     stats.Player[i] = unidecode(stats.Player[i])\n",
    "\n",
    "#Remove non alphabet that not detected by unidecode\n",
    "stats.Player.replace({r'[^\\x00-\\x7F]+':''}, regex=True, inplace=True)\n"
   ]
  },
  {
   "cell_type": "markdown",
   "metadata": {},
   "source": [
    "### **Player Price Dataset**"
   ]
  },
  {
   "cell_type": "markdown",
   "metadata": {},
   "source": [
    "#### Check Missing Value"
   ]
  },
  {
   "cell_type": "code",
   "execution_count": 11,
   "metadata": {},
   "outputs": [],
   "source": [
    "#Replace '-' value to missing value\n",
    "price.replace('-', np.nan,inplace=True)"
   ]
  },
  {
   "cell_type": "code",
   "execution_count": 12,
   "metadata": {},
   "outputs": [
    {
     "data": {
      "text/plain": [
       "name            0\n",
       "position        0\n",
       "age             1\n",
       "market_value    0\n",
       "country_from    1\n",
       "league_from     0\n",
       "club_from       0\n",
       "country_to      0\n",
       "league_to       0\n",
       "club_to         0\n",
       "fee             0\n",
       "loan            0\n",
       "dtype: int64"
      ]
     },
     "execution_count": 12,
     "metadata": {},
     "output_type": "execute_result"
    }
   ],
   "source": [
    "price.isna().sum()"
   ]
  },
  {
   "cell_type": "code",
   "execution_count": 13,
   "metadata": {},
   "outputs": [],
   "source": [
    "price['country_from'].fillna('Unknown', inplace=True)\n",
    "price['age'].fillna(price['age'].median(), inplace=True)"
   ]
  },
  {
   "cell_type": "code",
   "execution_count": 14,
   "metadata": {},
   "outputs": [
    {
     "data": {
      "text/plain": [
       "name            0\n",
       "position        0\n",
       "age             0\n",
       "market_value    0\n",
       "country_from    0\n",
       "league_from     0\n",
       "club_from       0\n",
       "country_to      0\n",
       "league_to       0\n",
       "club_to         0\n",
       "fee             0\n",
       "loan            0\n",
       "dtype: int64"
      ]
     },
     "execution_count": 14,
     "metadata": {},
     "output_type": "execute_result"
    }
   ],
   "source": [
    "price.isna().sum()"
   ]
  },
  {
   "cell_type": "markdown",
   "metadata": {},
   "source": [
    "#### Convert Non Alphabet Player Name to Alphabet "
   ]
  },
  {
   "cell_type": "code",
   "execution_count": 15,
   "metadata": {},
   "outputs": [
    {
     "name": "stderr",
     "output_type": "stream",
     "text": [
      "C:\\Users\\kenta\\AppData\\Local\\Temp\\ipykernel_16528\\3639197262.py:2: SettingWithCopyWarning: \n",
      "A value is trying to be set on a copy of a slice from a DataFrame\n",
      "\n",
      "See the caveats in the documentation: https://pandas.pydata.org/pandas-docs/stable/user_guide/indexing.html#returning-a-view-versus-a-copy\n",
      "  price.name[i] = unidecode(price.name[i])\n"
     ]
    }
   ],
   "source": [
    "for i in range(len(price.name)):\n",
    "     price.name[i] = unidecode(price.name[i])\n",
    "\n",
    "#Remove non alphabet that not detected by unidecode     \n",
    "price.name.replace({r'[^\\x00-\\x7F]+':''}, regex=True, inplace=True)"
   ]
  },
  {
   "cell_type": "markdown",
   "metadata": {},
   "source": [
    "## **Join Dataset**"
   ]
  },
  {
   "cell_type": "code",
   "execution_count": 16,
   "metadata": {},
   "outputs": [],
   "source": [
    "#Drop redundant or unused columns\n",
    "stats.drop(columns=['Rk','Born','Comp','Squad','Pos'],inplace=True)\n",
    "#Rename 'name' column on player price dataset to Player\n",
    "price.rename(columns = {'name':'Player'}, inplace = True)"
   ]
  },
  {
   "cell_type": "code",
   "execution_count": 17,
   "metadata": {},
   "outputs": [
    {
     "data": {
      "text/html": [
       "<div>\n",
       "<style scoped>\n",
       "    .dataframe tbody tr th:only-of-type {\n",
       "        vertical-align: middle;\n",
       "    }\n",
       "\n",
       "    .dataframe tbody tr th {\n",
       "        vertical-align: top;\n",
       "    }\n",
       "\n",
       "    .dataframe thead th {\n",
       "        text-align: right;\n",
       "    }\n",
       "</style>\n",
       "<table border=\"1\" class=\"dataframe\">\n",
       "  <thead>\n",
       "    <tr style=\"text-align: right;\">\n",
       "      <th></th>\n",
       "      <th>Player</th>\n",
       "      <th>position</th>\n",
       "      <th>age</th>\n",
       "      <th>market_value</th>\n",
       "      <th>country_from</th>\n",
       "      <th>league_from</th>\n",
       "      <th>club_from</th>\n",
       "      <th>country_to</th>\n",
       "      <th>league_to</th>\n",
       "      <th>club_to</th>\n",
       "      <th>...</th>\n",
       "      <th>Off</th>\n",
       "      <th>Crs</th>\n",
       "      <th>TklW</th>\n",
       "      <th>PKwon</th>\n",
       "      <th>PKcon</th>\n",
       "      <th>OG</th>\n",
       "      <th>Recov</th>\n",
       "      <th>AerWon</th>\n",
       "      <th>AerLost</th>\n",
       "      <th>AerWon%</th>\n",
       "    </tr>\n",
       "  </thead>\n",
       "  <tbody>\n",
       "    <tr>\n",
       "      <th>0</th>\n",
       "      <td>Erling Haaland</td>\n",
       "      <td>Centre-Forward</td>\n",
       "      <td>21</td>\n",
       "      <td>150.0</td>\n",
       "      <td>Germany</td>\n",
       "      <td>Bundesliga</td>\n",
       "      <td>Borussia Dortmund</td>\n",
       "      <td>England</td>\n",
       "      <td>Premier League</td>\n",
       "      <td>Manchester City</td>\n",
       "      <td>...</td>\n",
       "      <td>0.66</td>\n",
       "      <td>0.38</td>\n",
       "      <td>0.09</td>\n",
       "      <td>0.00</td>\n",
       "      <td>0.00</td>\n",
       "      <td>0.0</td>\n",
       "      <td>3.25</td>\n",
       "      <td>2.36</td>\n",
       "      <td>1.93</td>\n",
       "      <td>54.9</td>\n",
       "    </tr>\n",
       "    <tr>\n",
       "      <th>1</th>\n",
       "      <td>Wesley Fofana</td>\n",
       "      <td>Centre-Back</td>\n",
       "      <td>21</td>\n",
       "      <td>40.0</td>\n",
       "      <td>England</td>\n",
       "      <td>Premier League</td>\n",
       "      <td>Leicester City</td>\n",
       "      <td>England</td>\n",
       "      <td>Premier League</td>\n",
       "      <td>Chelsea FC</td>\n",
       "      <td>...</td>\n",
       "      <td>0.00</td>\n",
       "      <td>0.00</td>\n",
       "      <td>0.71</td>\n",
       "      <td>0.00</td>\n",
       "      <td>0.00</td>\n",
       "      <td>0.0</td>\n",
       "      <td>10.90</td>\n",
       "      <td>3.29</td>\n",
       "      <td>1.71</td>\n",
       "      <td>65.7</td>\n",
       "    </tr>\n",
       "    <tr>\n",
       "      <th>2</th>\n",
       "      <td>Aurelien Tchouameni</td>\n",
       "      <td>Defensive Midfield</td>\n",
       "      <td>22</td>\n",
       "      <td>60.0</td>\n",
       "      <td>Monaco</td>\n",
       "      <td>Ligue 1</td>\n",
       "      <td>AS Monaco</td>\n",
       "      <td>Spain</td>\n",
       "      <td>LaLiga</td>\n",
       "      <td>Real Madrid</td>\n",
       "      <td>...</td>\n",
       "      <td>0.06</td>\n",
       "      <td>0.74</td>\n",
       "      <td>2.06</td>\n",
       "      <td>0.00</td>\n",
       "      <td>0.03</td>\n",
       "      <td>0.0</td>\n",
       "      <td>11.80</td>\n",
       "      <td>2.65</td>\n",
       "      <td>1.08</td>\n",
       "      <td>71.1</td>\n",
       "    </tr>\n",
       "    <tr>\n",
       "      <th>3</th>\n",
       "      <td>Casemiro</td>\n",
       "      <td>Defensive Midfield</td>\n",
       "      <td>30</td>\n",
       "      <td>40.0</td>\n",
       "      <td>Spain</td>\n",
       "      <td>LaLiga</td>\n",
       "      <td>Real Madrid</td>\n",
       "      <td>England</td>\n",
       "      <td>Premier League</td>\n",
       "      <td>Manchester United</td>\n",
       "      <td>...</td>\n",
       "      <td>0.14</td>\n",
       "      <td>0.35</td>\n",
       "      <td>2.25</td>\n",
       "      <td>0.04</td>\n",
       "      <td>0.00</td>\n",
       "      <td>0.0</td>\n",
       "      <td>12.20</td>\n",
       "      <td>3.93</td>\n",
       "      <td>1.93</td>\n",
       "      <td>67.1</td>\n",
       "    </tr>\n",
       "    <tr>\n",
       "      <th>4</th>\n",
       "      <td>Alexander Isak</td>\n",
       "      <td>Centre-Forward</td>\n",
       "      <td>22</td>\n",
       "      <td>30.0</td>\n",
       "      <td>Spain</td>\n",
       "      <td>LaLiga</td>\n",
       "      <td>Real Sociedad</td>\n",
       "      <td>England</td>\n",
       "      <td>Premier League</td>\n",
       "      <td>Newcastle United</td>\n",
       "      <td>...</td>\n",
       "      <td>0.63</td>\n",
       "      <td>0.92</td>\n",
       "      <td>0.38</td>\n",
       "      <td>0.00</td>\n",
       "      <td>0.00</td>\n",
       "      <td>0.0</td>\n",
       "      <td>3.19</td>\n",
       "      <td>1.30</td>\n",
       "      <td>2.23</td>\n",
       "      <td>36.9</td>\n",
       "    </tr>\n",
       "  </tbody>\n",
       "</table>\n",
       "<p>5 rows × 149 columns</p>\n",
       "</div>"
      ],
      "text/plain": [
       "                Player            position age  market_value country_from  \\\n",
       "0       Erling Haaland      Centre-Forward  21         150.0      Germany   \n",
       "1        Wesley Fofana         Centre-Back  21          40.0      England   \n",
       "2  Aurelien Tchouameni  Defensive Midfield  22          60.0       Monaco   \n",
       "3             Casemiro  Defensive Midfield  30          40.0        Spain   \n",
       "4       Alexander Isak      Centre-Forward  22          30.0        Spain   \n",
       "\n",
       "      league_from          club_from country_to       league_to  \\\n",
       "0      Bundesliga  Borussia Dortmund    England  Premier League   \n",
       "1  Premier League     Leicester City    England  Premier League   \n",
       "2         Ligue 1          AS Monaco      Spain          LaLiga   \n",
       "3          LaLiga        Real Madrid    England  Premier League   \n",
       "4          LaLiga      Real Sociedad    England  Premier League   \n",
       "\n",
       "             club_to  ...   Off   Crs  TklW  PKwon  PKcon   OG  Recov  AerWon  \\\n",
       "0    Manchester City  ...  0.66  0.38  0.09   0.00   0.00  0.0   3.25    2.36   \n",
       "1         Chelsea FC  ...  0.00  0.00  0.71   0.00   0.00  0.0  10.90    3.29   \n",
       "2        Real Madrid  ...  0.06  0.74  2.06   0.00   0.03  0.0  11.80    2.65   \n",
       "3  Manchester United  ...  0.14  0.35  2.25   0.04   0.00  0.0  12.20    3.93   \n",
       "4   Newcastle United  ...  0.63  0.92  0.38   0.00   0.00  0.0   3.19    1.30   \n",
       "\n",
       "   AerLost  AerWon%  \n",
       "0     1.93     54.9  \n",
       "1     1.71     65.7  \n",
       "2     1.08     71.1  \n",
       "3     1.93     67.1  \n",
       "4     2.23     36.9  \n",
       "\n",
       "[5 rows x 149 columns]"
      ]
     },
     "execution_count": 17,
     "metadata": {},
     "output_type": "execute_result"
    }
   ],
   "source": [
    "#Join 2 Datasets based on 'Player' columns\n",
    "df = price.merge(stats, on='Player', how='inner')\n",
    "df.head()"
   ]
  },
  {
   "cell_type": "markdown",
   "metadata": {},
   "source": [
    "## **Final Dataset**"
   ]
  },
  {
   "cell_type": "markdown",
   "metadata": {},
   "source": [
    "### **Drop Free Transfered Player**"
   ]
  },
  {
   "cell_type": "code",
   "execution_count": 18,
   "metadata": {},
   "outputs": [
    {
     "data": {
      "text/html": [
       "<div>\n",
       "<style scoped>\n",
       "    .dataframe tbody tr th:only-of-type {\n",
       "        vertical-align: middle;\n",
       "    }\n",
       "\n",
       "    .dataframe tbody tr th {\n",
       "        vertical-align: top;\n",
       "    }\n",
       "\n",
       "    .dataframe thead th {\n",
       "        text-align: right;\n",
       "    }\n",
       "</style>\n",
       "<table border=\"1\" class=\"dataframe\">\n",
       "  <thead>\n",
       "    <tr style=\"text-align: right;\">\n",
       "      <th></th>\n",
       "      <th>Player</th>\n",
       "      <th>position</th>\n",
       "      <th>age</th>\n",
       "      <th>market_value</th>\n",
       "      <th>country_from</th>\n",
       "      <th>league_from</th>\n",
       "      <th>club_from</th>\n",
       "      <th>country_to</th>\n",
       "      <th>league_to</th>\n",
       "      <th>club_to</th>\n",
       "      <th>...</th>\n",
       "      <th>Off</th>\n",
       "      <th>Crs</th>\n",
       "      <th>TklW</th>\n",
       "      <th>PKwon</th>\n",
       "      <th>PKcon</th>\n",
       "      <th>OG</th>\n",
       "      <th>Recov</th>\n",
       "      <th>AerWon</th>\n",
       "      <th>AerLost</th>\n",
       "      <th>AerWon%</th>\n",
       "    </tr>\n",
       "  </thead>\n",
       "  <tbody>\n",
       "    <tr>\n",
       "      <th>0</th>\n",
       "      <td>Erling Haaland</td>\n",
       "      <td>Centre-Forward</td>\n",
       "      <td>21</td>\n",
       "      <td>150.0</td>\n",
       "      <td>Germany</td>\n",
       "      <td>Bundesliga</td>\n",
       "      <td>Borussia Dortmund</td>\n",
       "      <td>England</td>\n",
       "      <td>Premier League</td>\n",
       "      <td>Manchester City</td>\n",
       "      <td>...</td>\n",
       "      <td>0.66</td>\n",
       "      <td>0.38</td>\n",
       "      <td>0.09</td>\n",
       "      <td>0.00</td>\n",
       "      <td>0.00</td>\n",
       "      <td>0.0</td>\n",
       "      <td>3.25</td>\n",
       "      <td>2.36</td>\n",
       "      <td>1.93</td>\n",
       "      <td>54.9</td>\n",
       "    </tr>\n",
       "    <tr>\n",
       "      <th>1</th>\n",
       "      <td>Wesley Fofana</td>\n",
       "      <td>Centre-Back</td>\n",
       "      <td>21</td>\n",
       "      <td>40.0</td>\n",
       "      <td>England</td>\n",
       "      <td>Premier League</td>\n",
       "      <td>Leicester City</td>\n",
       "      <td>England</td>\n",
       "      <td>Premier League</td>\n",
       "      <td>Chelsea FC</td>\n",
       "      <td>...</td>\n",
       "      <td>0.00</td>\n",
       "      <td>0.00</td>\n",
       "      <td>0.71</td>\n",
       "      <td>0.00</td>\n",
       "      <td>0.00</td>\n",
       "      <td>0.0</td>\n",
       "      <td>10.90</td>\n",
       "      <td>3.29</td>\n",
       "      <td>1.71</td>\n",
       "      <td>65.7</td>\n",
       "    </tr>\n",
       "    <tr>\n",
       "      <th>2</th>\n",
       "      <td>Aurelien Tchouameni</td>\n",
       "      <td>Defensive Midfield</td>\n",
       "      <td>22</td>\n",
       "      <td>60.0</td>\n",
       "      <td>Monaco</td>\n",
       "      <td>Ligue 1</td>\n",
       "      <td>AS Monaco</td>\n",
       "      <td>Spain</td>\n",
       "      <td>LaLiga</td>\n",
       "      <td>Real Madrid</td>\n",
       "      <td>...</td>\n",
       "      <td>0.06</td>\n",
       "      <td>0.74</td>\n",
       "      <td>2.06</td>\n",
       "      <td>0.00</td>\n",
       "      <td>0.03</td>\n",
       "      <td>0.0</td>\n",
       "      <td>11.80</td>\n",
       "      <td>2.65</td>\n",
       "      <td>1.08</td>\n",
       "      <td>71.1</td>\n",
       "    </tr>\n",
       "    <tr>\n",
       "      <th>3</th>\n",
       "      <td>Casemiro</td>\n",
       "      <td>Defensive Midfield</td>\n",
       "      <td>30</td>\n",
       "      <td>40.0</td>\n",
       "      <td>Spain</td>\n",
       "      <td>LaLiga</td>\n",
       "      <td>Real Madrid</td>\n",
       "      <td>England</td>\n",
       "      <td>Premier League</td>\n",
       "      <td>Manchester United</td>\n",
       "      <td>...</td>\n",
       "      <td>0.14</td>\n",
       "      <td>0.35</td>\n",
       "      <td>2.25</td>\n",
       "      <td>0.04</td>\n",
       "      <td>0.00</td>\n",
       "      <td>0.0</td>\n",
       "      <td>12.20</td>\n",
       "      <td>3.93</td>\n",
       "      <td>1.93</td>\n",
       "      <td>67.1</td>\n",
       "    </tr>\n",
       "    <tr>\n",
       "      <th>4</th>\n",
       "      <td>Alexander Isak</td>\n",
       "      <td>Centre-Forward</td>\n",
       "      <td>22</td>\n",
       "      <td>30.0</td>\n",
       "      <td>Spain</td>\n",
       "      <td>LaLiga</td>\n",
       "      <td>Real Sociedad</td>\n",
       "      <td>England</td>\n",
       "      <td>Premier League</td>\n",
       "      <td>Newcastle United</td>\n",
       "      <td>...</td>\n",
       "      <td>0.63</td>\n",
       "      <td>0.92</td>\n",
       "      <td>0.38</td>\n",
       "      <td>0.00</td>\n",
       "      <td>0.00</td>\n",
       "      <td>0.0</td>\n",
       "      <td>3.19</td>\n",
       "      <td>1.30</td>\n",
       "      <td>2.23</td>\n",
       "      <td>36.9</td>\n",
       "    </tr>\n",
       "  </tbody>\n",
       "</table>\n",
       "<p>5 rows × 149 columns</p>\n",
       "</div>"
      ],
      "text/plain": [
       "                Player            position age  market_value country_from  \\\n",
       "0       Erling Haaland      Centre-Forward  21         150.0      Germany   \n",
       "1        Wesley Fofana         Centre-Back  21          40.0      England   \n",
       "2  Aurelien Tchouameni  Defensive Midfield  22          60.0       Monaco   \n",
       "3             Casemiro  Defensive Midfield  30          40.0        Spain   \n",
       "4       Alexander Isak      Centre-Forward  22          30.0        Spain   \n",
       "\n",
       "      league_from          club_from country_to       league_to  \\\n",
       "0      Bundesliga  Borussia Dortmund    England  Premier League   \n",
       "1  Premier League     Leicester City    England  Premier League   \n",
       "2         Ligue 1          AS Monaco      Spain          LaLiga   \n",
       "3          LaLiga        Real Madrid    England  Premier League   \n",
       "4          LaLiga      Real Sociedad    England  Premier League   \n",
       "\n",
       "             club_to  ...   Off   Crs  TklW  PKwon  PKcon   OG  Recov  AerWon  \\\n",
       "0    Manchester City  ...  0.66  0.38  0.09   0.00   0.00  0.0   3.25    2.36   \n",
       "1         Chelsea FC  ...  0.00  0.00  0.71   0.00   0.00  0.0  10.90    3.29   \n",
       "2        Real Madrid  ...  0.06  0.74  2.06   0.00   0.03  0.0  11.80    2.65   \n",
       "3  Manchester United  ...  0.14  0.35  2.25   0.04   0.00  0.0  12.20    3.93   \n",
       "4   Newcastle United  ...  0.63  0.92  0.38   0.00   0.00  0.0   3.19    1.30   \n",
       "\n",
       "   AerLost  AerWon%  \n",
       "0     1.93     54.9  \n",
       "1     1.71     65.7  \n",
       "2     1.08     71.1  \n",
       "3     1.93     67.1  \n",
       "4     2.23     36.9  \n",
       "\n",
       "[5 rows x 149 columns]"
      ]
     },
     "execution_count": 18,
     "metadata": {},
     "output_type": "execute_result"
    }
   ],
   "source": [
    "indexFreeTransfer = df[ (df['fee'] == 0) & (df['loan'] == False) ].index\n",
    "df.drop(indexFreeTransfer , inplace=True)\n",
    "df.head()"
   ]
  },
  {
   "cell_type": "markdown",
   "metadata": {},
   "source": [
    "### **Create Column Transformer**"
   ]
  },
  {
   "cell_type": "markdown",
   "metadata": {},
   "source": [
    "Column transformer is created to transform categorical columns to numerical column. In this case, i use binary encoder to transform all categorical columns."
   ]
  },
  {
   "cell_type": "code",
   "execution_count": 19,
   "metadata": {},
   "outputs": [],
   "source": [
    "transformer = ColumnTransformer([\n",
    "    ('binary_encoder', BinaryEncoder(), ['Nation','position','country_from','club_from','country_to','club_to','league_from','league_to']),\n",
    "    ], remainder='passthrough')"
   ]
  },
  {
   "cell_type": "markdown",
   "metadata": {},
   "source": [
    "### **Feature and Target Splitting**"
   ]
  },
  {
   "cell_type": "code",
   "execution_count": 20,
   "metadata": {},
   "outputs": [],
   "source": [
    "x = df.drop(columns=['fee','Player']) #x as fitur\n",
    "y = df['fee'] #y as target"
   ]
  },
  {
   "cell_type": "markdown",
   "metadata": {},
   "source": [
    "### **Data Train and Test Splitting**"
   ]
  },
  {
   "cell_type": "code",
   "execution_count": 21,
   "metadata": {},
   "outputs": [],
   "source": [
    "# Split\n",
    "xtrain, xtest, ytrain, ytest = train_test_split(\n",
    "    x, \n",
    "    y,\n",
    "    test_size=0.2,\n",
    "    random_state=100\n",
    ")"
   ]
  },
  {
   "cell_type": "markdown",
   "metadata": {},
   "source": [
    "### **Model Benchmarking**"
   ]
  },
  {
   "cell_type": "code",
   "execution_count": 22,
   "metadata": {},
   "outputs": [],
   "source": [
    "linreg = LinearRegression()\n",
    "dt = DecisionTreeRegressor(random_state=100)\n",
    "knn = KNeighborsRegressor()\n",
    "xgb = XGBRegressor()    \n",
    "rfr = RandomForestRegressor(random_state=100)\n",
    "\n",
    "model = [linreg,dt,knn,xgb,rfr]"
   ]
  },
  {
   "cell_type": "code",
   "execution_count": 23,
   "metadata": {},
   "outputs": [],
   "source": [
    "list_model = []\n",
    "list_mae = []\n",
    "list_rmse = []\n",
    "mae_std = []\n",
    "rmse_std = []\n",
    "\n",
    "for i in model:\n",
    "    pipe_model = Pipeline([\n",
    "        ('preprocessing', transformer),\n",
    "        ('modeling', i) \n",
    "    ])\n",
    "\n",
    "    # cross validation\n",
    "    cv_score = cross_validate( \n",
    "        estimator= pipe_model,  # model\n",
    "        X = xtrain,            # X_train\n",
    "        y = ytrain,            # y_train\n",
    "        cv = 5,                 # berapa fold\n",
    "        scoring= ['neg_mean_absolute_error','neg_mean_absolute_percentage_error',\n",
    "                  'neg_mean_squared_error','neg_root_mean_squared_error']\n",
    "    )\n",
    "    \n",
    "    list_model.append(i)\n",
    "    list_mae.append(cv_score['test_neg_mean_absolute_error'].mean()) \n",
    "    list_rmse.append(cv_score['test_neg_root_mean_squared_error'].mean())\n",
    "    mae_std.append(cv_score['test_neg_mean_absolute_error'].std())\n",
    "    rmse_std.append(cv_score['test_neg_root_mean_squared_error'].std())"
   ]
  },
  {
   "cell_type": "code",
   "execution_count": 24,
   "metadata": {},
   "outputs": [
    {
     "data": {
      "text/html": [
       "<div>\n",
       "<style scoped>\n",
       "    .dataframe tbody tr th:only-of-type {\n",
       "        vertical-align: middle;\n",
       "    }\n",
       "\n",
       "    .dataframe tbody tr th {\n",
       "        vertical-align: top;\n",
       "    }\n",
       "\n",
       "    .dataframe thead th {\n",
       "        text-align: right;\n",
       "    }\n",
       "</style>\n",
       "<table border=\"1\" class=\"dataframe\">\n",
       "  <thead>\n",
       "    <tr style=\"text-align: right;\">\n",
       "      <th></th>\n",
       "      <th>Model</th>\n",
       "      <th>RMSE</th>\n",
       "      <th>RMSE std</th>\n",
       "      <th>MAE</th>\n",
       "      <th>MAE std</th>\n",
       "    </tr>\n",
       "  </thead>\n",
       "  <tbody>\n",
       "    <tr>\n",
       "      <th>4</th>\n",
       "      <td>RandomForestRegressor(random_state=100)</td>\n",
       "      <td>6.785550</td>\n",
       "      <td>1.274843</td>\n",
       "      <td>3.345263</td>\n",
       "      <td>0.620275</td>\n",
       "    </tr>\n",
       "    <tr>\n",
       "      <th>3</th>\n",
       "      <td>XGBRegressor(base_score=None, booster=None, ca...</td>\n",
       "      <td>7.447981</td>\n",
       "      <td>0.564217</td>\n",
       "      <td>3.533103</td>\n",
       "      <td>0.404548</td>\n",
       "    </tr>\n",
       "    <tr>\n",
       "      <th>1</th>\n",
       "      <td>DecisionTreeRegressor(random_state=100)</td>\n",
       "      <td>8.575578</td>\n",
       "      <td>1.475007</td>\n",
       "      <td>3.853097</td>\n",
       "      <td>0.746890</td>\n",
       "    </tr>\n",
       "    <tr>\n",
       "      <th>2</th>\n",
       "      <td>KNeighborsRegressor()</td>\n",
       "      <td>12.370098</td>\n",
       "      <td>2.033462</td>\n",
       "      <td>7.486320</td>\n",
       "      <td>0.911440</td>\n",
       "    </tr>\n",
       "    <tr>\n",
       "      <th>0</th>\n",
       "      <td>LinearRegression()</td>\n",
       "      <td>16.019767</td>\n",
       "      <td>4.714256</td>\n",
       "      <td>9.202037</td>\n",
       "      <td>1.023295</td>\n",
       "    </tr>\n",
       "  </tbody>\n",
       "</table>\n",
       "</div>"
      ],
      "text/plain": [
       "                                               Model       RMSE  RMSE std  \\\n",
       "4            RandomForestRegressor(random_state=100)   6.785550  1.274843   \n",
       "3  XGBRegressor(base_score=None, booster=None, ca...   7.447981  0.564217   \n",
       "1            DecisionTreeRegressor(random_state=100)   8.575578  1.475007   \n",
       "2                              KNeighborsRegressor()  12.370098  2.033462   \n",
       "0                                 LinearRegression()  16.019767  4.714256   \n",
       "\n",
       "        MAE   MAE std  \n",
       "4  3.345263  0.620275  \n",
       "3  3.533103  0.404548  \n",
       "1  3.853097  0.746890  \n",
       "2  7.486320  0.911440  \n",
       "0  9.202037  1.023295  "
      ]
     },
     "execution_count": 24,
     "metadata": {},
     "output_type": "execute_result"
    }
   ],
   "source": [
    "Hasil = pd.DataFrame()\n",
    "\n",
    "Hasil['Model'] = list_model\n",
    "Hasil['RMSE'] = np.negative(list_rmse)\n",
    "Hasil['RMSE std'] = rmse_std\n",
    "Hasil['MAE'] = np.negative(list_mae)\n",
    "Hasil['MAE std'] = mae_std\n",
    "\n",
    "Hasil.sort_values(by='RMSE')"
   ]
  },
  {
   "cell_type": "markdown",
   "metadata": {},
   "source": [
    "Based on cross validate result, RandomForestRegressor is the best model among the others because RandomForestRegressor has the lowest RMSE, and MAE value. So, i will use RandomForestRegressor to predict the test data."
   ]
  },
  {
   "cell_type": "markdown",
   "metadata": {},
   "source": [
    "### **Predicting Data Test**"
   ]
  },
  {
   "cell_type": "code",
   "execution_count": 25,
   "metadata": {},
   "outputs": [
    {
     "data": {
      "text/html": [
       "<div>\n",
       "<style scoped>\n",
       "    .dataframe tbody tr th:only-of-type {\n",
       "        vertical-align: middle;\n",
       "    }\n",
       "\n",
       "    .dataframe tbody tr th {\n",
       "        vertical-align: top;\n",
       "    }\n",
       "\n",
       "    .dataframe thead th {\n",
       "        text-align: right;\n",
       "    }\n",
       "</style>\n",
       "<table border=\"1\" class=\"dataframe\">\n",
       "  <thead>\n",
       "    <tr style=\"text-align: right;\">\n",
       "      <th></th>\n",
       "      <th>Model</th>\n",
       "      <th>MAE</th>\n",
       "      <th>RMSE</th>\n",
       "    </tr>\n",
       "  </thead>\n",
       "  <tbody>\n",
       "    <tr>\n",
       "      <th>0</th>\n",
       "      <td>RandomForestRegressor</td>\n",
       "      <td>2.83282</td>\n",
       "      <td>5.788885</td>\n",
       "    </tr>\n",
       "  </tbody>\n",
       "</table>\n",
       "</div>"
      ],
      "text/plain": [
       "                   Model      MAE      RMSE\n",
       "0  RandomForestRegressor  2.83282  5.788885"
      ]
     },
     "execution_count": 25,
     "metadata": {},
     "output_type": "execute_result"
    }
   ],
   "source": [
    "predict_MAE_rfr = []\n",
    "predict_RMSE_rfr = []\n",
    "\n",
    "pipe_model_rfr = Pipeline([\n",
    "    ('preprocessing',transformer),\n",
    "    ('modeling',RandomForestRegressor(random_state=100))\n",
    "])\n",
    "\n",
    "#fit\n",
    "pipe_model_rfr.fit(xtrain,ytrain)\n",
    "\n",
    "#predict\n",
    "ypredict_rfr = pipe_model_rfr.predict(xtest)\n",
    "predict_MAE_rfr.append(mean_absolute_error(ytest,ypredict_rfr))\n",
    "predict_RMSE_rfr.append(np.sqrt(mean_squared_error(ytest, ypredict_rfr)))\n",
    "\n",
    "Hasil_predict_rfr = pd.DataFrame()\n",
    "Hasil_predict_rfr['Model'] = ['RandomForestRegressor']\n",
    "Hasil_predict_rfr['MAE'] = predict_MAE_rfr\n",
    "Hasil_predict_rfr['RMSE'] = predict_RMSE_rfr\n",
    "Hasil_predict_rfr"
   ]
  },
  {
   "cell_type": "markdown",
   "metadata": {},
   "source": [
    "### **Actual vs Predicted Price**"
   ]
  },
  {
   "cell_type": "code",
   "execution_count": 26,
   "metadata": {},
   "outputs": [
    {
     "data": {
      "image/png": "[encoded data removed]",
      "text/plain": [
       "<Figure size 1200x600 with 1 Axes>"
      ]
     },
     "metadata": {},
     "output_type": "display_data"
    }
   ],
   "source": [
    "plt.figure(figsize=(12, 6))\n",
    "sns.regplot(x=ytest, y=ypredict_rfr,\n",
    "                    scatter_kws = {\"color\": \"blue\", \"alpha\" : 0.5},\n",
    "                    line_kws = {\"color\": \"red\"}).set(title='Actual vs. Prediction Price', \n",
    "                                               xlabel='Actual Price', \n",
    "                                               ylabel='Predicted Price');\n",
    "plt.show()"
   ]
  },
  {
   "cell_type": "markdown",
   "metadata": {},
   "source": [
    "### **Feature Importance**"
   ]
  },
  {
   "cell_type": "code",
   "execution_count": 27,
   "metadata": {},
   "outputs": [
    {
     "data": {
      "text/html": [
       "<div>\n",
       "<style scoped>\n",
       "    .dataframe tbody tr th:only-of-type {\n",
       "        vertical-align: middle;\n",
       "    }\n",
       "\n",
       "    .dataframe tbody tr th {\n",
       "        vertical-align: top;\n",
       "    }\n",
       "\n",
       "    .dataframe thead th {\n",
       "        text-align: right;\n",
       "    }\n",
       "</style>\n",
       "<table border=\"1\" class=\"dataframe\">\n",
       "  <thead>\n",
       "    <tr style=\"text-align: right;\">\n",
       "      <th></th>\n",
       "      <th>Feature</th>\n",
       "      <th>Importance Value</th>\n",
       "    </tr>\n",
       "  </thead>\n",
       "  <tbody>\n",
       "    <tr>\n",
       "      <th>48</th>\n",
       "      <td>remainder__market_value</td>\n",
       "      <td>0.620364</td>\n",
       "    </tr>\n",
       "    <tr>\n",
       "      <th>49</th>\n",
       "      <td>remainder__loan</td>\n",
       "      <td>0.146431</td>\n",
       "    </tr>\n",
       "    <tr>\n",
       "      <th>163</th>\n",
       "      <td>remainder__Car3rd</td>\n",
       "      <td>0.012574</td>\n",
       "    </tr>\n",
       "    <tr>\n",
       "      <th>59</th>\n",
       "      <td>remainder__G/Sh</td>\n",
       "      <td>0.007954</td>\n",
       "    </tr>\n",
       "    <tr>\n",
       "      <th>27</th>\n",
       "      <td>binary_encoder__country_to_4</td>\n",
       "      <td>0.007368</td>\n",
       "    </tr>\n",
       "  </tbody>\n",
       "</table>\n",
       "</div>"
      ],
      "text/plain": [
       "                          Feature  Importance Value\n",
       "48        remainder__market_value          0.620364\n",
       "49                remainder__loan          0.146431\n",
       "163             remainder__Car3rd          0.012574\n",
       "59                remainder__G/Sh          0.007954\n",
       "27   binary_encoder__country_to_4          0.007368"
      ]
     },
     "execution_count": 27,
     "metadata": {},
     "output_type": "execute_result"
    }
   ],
   "source": [
    "feature_imp = pd.DataFrame(pipe_model_rfr['modeling'].feature_importances_, transformer.get_feature_names_out()).reset_index()\n",
    "feature_imp.rename(columns={'index' : 'Feature', 0 : 'Importance Value'}).sort_values(by='Importance Value', ascending=False).head()\n"
   ]
  },
  {
   "cell_type": "markdown",
   "metadata": {},
   "source": [
    "### **Deploy Model**"
   ]
  },
  {
   "cell_type": "code",
   "execution_count": 28,
   "metadata": {},
   "outputs": [],
   "source": [
    "# #Save Model\n",
    "# pickle.dump(pipe_model_rfr, open('football_player_price_predictor.sav', 'wb'))"
   ]
  },
  {
   "cell_type": "code",
   "execution_count": 29,
   "metadata": {},
   "outputs": [],
   "source": [
    "# #Load Model\n",
    "# filename = 'football_player_price_predictor.sav'\n",
    "# loaded_model = pickle.load(open(filename, 'rb'))\n",
    "# mean_squared_error(ytest, loaded_model.predict(xtest))"
   ]
  }
 ],
 "metadata": {
  "kernelspec": {
   "display_name": "Python 3",
   "language": "python",
   "name": "python3"
  },
  "language_info": {
   "codemirror_mode": {
    "name": "ipython",
    "version": 3
   },
   "file_extension": ".py",
   "mimetype": "text/x-python",
   "name": "python",
   "nbconvert_exporter": "python",
   "pygments_lexer": "ipython3",
   "version": "3.11.2"
  },
  "orig_nbformat": 4
 },
 "nbformat": 4,
 "nbformat_minor": 2
}
